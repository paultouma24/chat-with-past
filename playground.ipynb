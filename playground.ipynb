{
 "cells": [
  {
   "cell_type": "code",
   "execution_count": 1,
   "metadata": {},
   "outputs": [],
   "source": [
    "# OPEN AI\n",
    "import os\n",
    "import openai\n",
    "\n",
    "from dotenv import load_dotenv\n",
    "\n",
    "load_dotenv()\n",
    "\n",
    "# Open AI\n",
    "openai.api_key = os.getenv(\"OPENAI_API_KEY\")\n",
    "models = openai.Model.list()\n",
    "\n",
    "\n",
    "# def get_embedding(text, model=\"text-embedding-ada-002\"):\n",
    "#     text = text.replace(\"\\n\", \" \")\n",
    "#     return openai.Embedding.create(input=[text], model=model)[\"data\"][0][\"embedding\"]"
   ]
  },
  {
   "cell_type": "code",
   "execution_count": 3,
   "metadata": {},
   "outputs": [],
   "source": [
    "from curses import meta\n",
    "import chromadb\n",
    "import os\n",
    "import datetime\n",
    "from chromadb.config import Settings\n",
    "import docx\n",
    "\n",
    "\n",
    "LOCAL_CHROMADB_DIR = \"local_chroma_db\"\n",
    "\n",
    "\n",
    "def get_client():\n",
    "    client = chromadb.Client(\n",
    "        Settings(chroma_db_impl=\"duckdb+parquet\", persist_directory=LOCAL_CHROMADB_DIR)\n",
    "    )\n",
    "    return client\n",
    "\n",
    "\n",
    "def get_collection(client):\n",
    "    journal_collection = client.get_or_create_collection(\"journal_entries\")\n",
    "\n",
    "    return journal_collection\n",
    "\n",
    "\n",
    "def remove_extension(file_name):\n",
    "    name_without_extension = os.path.splitext(file_name)[0]\n",
    "    return name_without_extension\n",
    "\n",
    "\n",
    "def read_docx(file_path):\n",
    "    document = docx.Document(file_path)\n",
    "    text = []\n",
    "    for paragraph in document.paragraphs:\n",
    "        text.append(paragraph.text)\n",
    "    return \"\\n\".join(text)\n",
    "\n",
    "\n",
    "def get_documents_to_add(directory):\n",
    "    documents = []\n",
    "    metadatas = []\n",
    "    ids = []\n",
    "    count = 1\n",
    "    for root, _, files in os.walk(directory):\n",
    "        for file in files:\n",
    "            file_path = os.path.join(root, file)\n",
    "\n",
    "            if file.startswith(\".\"):\n",
    "                continue\n",
    "\n",
    "            # gather info from journals\n",
    "            last_modified_date = str(\n",
    "                datetime.datetime.fromtimestamp(os.path.getmtime(file_path))\n",
    "            )\n",
    "            title = remove_extension(file)\n",
    "            text = read_docx(file_path)\n",
    "            documents.append(f\"{title} {text}\")\n",
    "            metadatas.append({\"last_modified_date\": last_modified_date})\n",
    "            ids.append(f\"Id{count}\")\n",
    "            count += 1\n",
    "\n",
    "    return ids, documents, metadatas\n",
    "\n",
    "\n",
    "def add_documents_to_collection(collection, ids, documents, metadatas):\n",
    "    collection.add(ids=ids, documents=documents, metadatas=metadatas)\n",
    "\n",
    "\n",
    "def first_time_batch_load():\n",
    "    ids, documents, metadatas = get_documents_to_add(\"private-journals\")\n",
    "    add_documents_to_collection(collection, ids, documents, metadatas)\n",
    "\n",
    "\n",
    "client = get_client()\n",
    "collection = get_collection(client)\n",
    "# first_time_batch_load()"
   ]
  },
  {
   "cell_type": "code",
   "execution_count": 2,
   "metadata": {},
   "outputs": [
    {
     "ename": "NameError",
     "evalue": "name 'collection' is not defined",
     "output_type": "error",
     "traceback": [
      "\u001b[0;31m---------------------------------------------------------------------------\u001b[0m",
      "\u001b[0;31mNameError\u001b[0m                                 Traceback (most recent call last)",
      "Cell \u001b[0;32mIn[2], line 8\u001b[0m\n\u001b[1;32m      5\u001b[0m prompt \u001b[39m=\u001b[39m \u001b[39m\"\u001b[39m\u001b[39mwhat would my past journals, what would you say about happiness\u001b[39m\u001b[39m\"\u001b[39m\n\u001b[1;32m      6\u001b[0m query_embeddings \u001b[39m=\u001b[39m basic_ef([prompt])\n\u001b[0;32m----> 8\u001b[0m documents \u001b[39m=\u001b[39m collection\u001b[39m.\u001b[39mquery(\n\u001b[1;32m      9\u001b[0m     query_embeddings\u001b[39m=\u001b[39mquery_embeddings,\n\u001b[1;32m     10\u001b[0m     n_results\u001b[39m=\u001b[39m\u001b[39m1\u001b[39m,\n\u001b[1;32m     11\u001b[0m )[\u001b[39m\"\u001b[39m\u001b[39mdocuments\u001b[39m\u001b[39m\"\u001b[39m]\n\u001b[1;32m     13\u001b[0m closest_doc \u001b[39m=\u001b[39m documents[\u001b[39m0\u001b[39m][\u001b[39m0\u001b[39m]\n\u001b[1;32m     15\u001b[0m \u001b[39m# response = openai.ChatCompletion.create(\u001b[39;00m\n\u001b[1;32m     16\u001b[0m \u001b[39m#     model=\"gpt-3.5-turbo\",\u001b[39;00m\n\u001b[1;32m     17\u001b[0m \u001b[39m#     messages=[\u001b[39;00m\n\u001b[0;32m   (...)\u001b[0m\n\u001b[1;32m     25\u001b[0m \u001b[39m# )\u001b[39;00m\n\u001b[1;32m     26\u001b[0m \u001b[39m# response\u001b[39;00m\n",
      "\u001b[0;31mNameError\u001b[0m: name 'collection' is not defined"
     ]
    }
   ],
   "source": [
    "from chromadb.utils import embedding_functions\n",
    "\n",
    "basic_ef = embedding_functions.DefaultEmbeddingFunction()\n",
    "\n",
    "prompt = \"what would my past journals, what would you say about happiness\"\n",
    "query_embeddings = basic_ef([prompt])\n",
    "\n",
    "documents = collection.query(\n",
    "    query_embeddings=query_embeddings,\n",
    "    n_results=1,\n",
    ")[\"documents\"]\n",
    "\n",
    "closest_doc = documents[0][0]\n",
    "\n",
    "# response = openai.ChatCompletion.create(\n",
    "#     model=\"gpt-3.5-turbo\",\n",
    "#     messages=[\n",
    "#         {\n",
    "#             \"role\": \"system\",\n",
    "#             \"content\": \"You are a kind and you are the the past self talking to the present self, based on journal entries provided by assistant. Be prophetic and cite examples in your responses from the journals.\",\n",
    "#         },\n",
    "#         {\"role\": \"assistant\", \"content\": closest_doc},\n",
    "#         {\"role\": \"user\", \"content\": prompt},\n",
    "#     ],\n",
    "# )\n",
    "# response"
   ]
  },
  {
   "cell_type": "code",
   "execution_count": 11,
   "metadata": {},
   "outputs": [],
   "source": [
    "def db_is_empty(client: chromadb.Client) -> bool:\n",
    "    return len(client.list_collections()) == 0"
   ]
  },
  {
   "cell_type": "code",
   "execution_count": 16,
   "metadata": {},
   "outputs": [
    {
     "data": {
      "text/plain": [
       "101"
      ]
     },
     "execution_count": 16,
     "metadata": {},
     "output_type": "execute_result"
    }
   ],
   "source": [
    "collection.count()"
   ]
  },
  {
   "cell_type": "code",
   "execution_count": null,
   "metadata": {},
   "outputs": [],
   "source": [
    "s"
   ]
  }
 ],
 "metadata": {
  "kernelspec": {
   "display_name": "ai-trading-bot-jbQHvf02-py3.11",
   "language": "python",
   "name": "python3"
  },
  "language_info": {
   "codemirror_mode": {
    "name": "ipython",
    "version": 3
   },
   "file_extension": ".py",
   "mimetype": "text/x-python",
   "name": "python",
   "nbconvert_exporter": "python",
   "pygments_lexer": "ipython3",
   "version": "3.11.4"
  },
  "orig_nbformat": 4
 },
 "nbformat": 4,
 "nbformat_minor": 2
}
